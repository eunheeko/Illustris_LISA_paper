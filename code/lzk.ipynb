{
 "cells": [
  {
   "cell_type": "code",
   "execution_count": 2,
   "metadata": {},
   "outputs": [
    {
     "name": "stderr",
     "output_type": "stream",
     "text": [
      "/Users/lzkelley/anaconda3/lib/python3.6/importlib/_bootstrap.py:219: RuntimeWarning: numpy.dtype size changed, may indicate binary incompatibility. Expected 96, got 88\n",
      "  return f(*args, **kwds)\n",
      "/Users/lzkelley/anaconda3/lib/python3.6/importlib/_bootstrap.py:219: RuntimeWarning: numpy.dtype size changed, may indicate binary incompatibility. Expected 96, got 88\n",
      "  return f(*args, **kwds)\n"
     ]
    }
   ],
   "source": [
    "%reload_ext autoreload\n",
    "%autoreload 2\n",
    "from importlib import reload\n",
    "\n",
    "import numpy as np\n",
    "import scipy as sp\n",
    "import matplotlib as mpl\n",
    "import matplotlib.pyplot as plt\n",
    "\n",
    "from zcode.constants import *\n",
    "import zcode.math as zmath\n",
    "import zcode.plot as zplot\n",
    "import zcode.inout as zio\n",
    "\n",
    "import evolve_lzk"
   ]
  },
  {
   "cell_type": "code",
   "execution_count": 3,
   "metadata": {},
   "outputs": [],
   "source": [
    "np.seterr(divide='ignore', invalid='ignore');\n",
    "\n",
    "mpl.rc('font', **{'family': 'serif', 'sans-serif': ['Times']})\n",
    "mpl.rc('lines', solid_capstyle='round')\n",
    "mpl.rc('mathtext', fontset='cm')\n",
    "plt.rcParams.update({'grid.alpha': 0.5})"
   ]
  },
  {
   "cell_type": "markdown",
   "metadata": {},
   "source": [
    "### Check Density Profiles"
   ]
  },
  {
   "cell_type": "code",
   "execution_count": 3,
   "metadata": {},
   "outputs": [
    {
     "name": "stdout",
     "output_type": "stream",
     "text": [
      "Shape =  (17535,)  Names =  ('m', 'which', 'snap', 'sub', 'star_norm', 'star_gamma', 'gas_norm', 'gas_gamma', 'dm_norm', 'dm_gamma')\n"
     ]
    }
   ],
   "source": [
    "PATH_INPUT_DATA = (\"/Users/lzkelley/Research/working/arepo/illustris/redesign/mike_katz/illustris_LISA_paper/data/\"\n",
    "                   \"density_profiles.txt\")\n",
    "\n",
    "# np.loadtxt(PATH_INPUT_DATA, dtype={names: []})\n",
    "data = np.genfromtxt(PATH_INPUT_DATA, names=True)\n",
    "print(\"Shape = \", data.shape, \" Names = \", data.dtype.names)"
   ]
  },
  {
   "cell_type": "code",
   "execution_count": 4,
   "metadata": {},
   "outputs": [
    {
     "name": "stdout",
     "output_type": "stream",
     "text": [
      "test =  9491\n"
     ]
    },
    {
     "data": {
      "image/png": "[encoded data removed]",
      "text/plain": [
       "<Figure size 720x432 with 1 Axes>"
      ]
     },
     "metadata": {},
     "output_type": "display_data"
    }
   ],
   "source": [
    "names = ['gas', 'star', 'dm']\n",
    "colors = ['red', 'blue', 'k']\n",
    "fig, ax = plt.subplots(figsize=[10, 6])\n",
    "ax.set(xscale='log', yscale='log')\n",
    "\n",
    "xx = np.logspace(-1, 4, 100)\n",
    "dx = np.append(xx[0], np.diff(xx))\n",
    "\n",
    "num_gals = data.size\n",
    "test = np.random.choice(num_gals)\n",
    "print(\"test = \", test)\n",
    "\n",
    "for ii, (nn, cc) in enumerate(zip(names, colors)):\n",
    "    alpha = data[nn + '_norm'][test]\n",
    "    gamma = data[nn + '_gamma'][test]\n",
    "    yy = alpha*np.power(xx, -gamma)\n",
    "    ax.plot(xx, yy, color=cc, label=nn, alpha=0.5)\n",
    "    ax.plot(xx, np.cumsum(4*np.pi*xx**2*yy*dx), color=cc, ls='--', alpha=0.5)\n",
    "\n",
    "plt.legend()\n",
    "plt.show()"
   ]
  },
  {
   "cell_type": "markdown",
   "metadata": {},
   "source": [
    "# Evolution"
   ]
  },
  {
   "cell_type": "code",
   "execution_count": null,
   "metadata": {},
   "outputs": [
    {
     "name": "stdout",
     "output_type": "stream",
     "text": [
      "input_data.shape = (17535,)\n",
      "names = merger, snap_prev_in, snapshot_prev_out, snapshot_fin_out, subhalo_prev_in, subhalo_prev_out, subhalo_fin_out, id_old_prev_in, id_old_prev_out, id_old_fin_out, id_new_prev_in, id_new_prev_out, id_new_fin_out, mdot_sum, mass_new_prev_in, mass_new_prev_out, mass_new_fin_out, redshift, separation, coordinates_x, coordinates_y, coordinates_z, star_norm, star_gamma, gas_norm, gas_gamma, dm_norm, dm_gamma, vel_disp_prev_in, vel_disp_prev_out, vel_disp_fin_out, stellar_mass_prev_in, stellar_mass_prev_out, stellar_mass_fin_out, total_mass_prev_in, total_mass_prev_out, total_mass_fin_out\n",
      "_dens_prof_norms.shape =  (3, 17535)\n",
      "Mtot = (38.76, 39.86, 40.72, 42.02, 43.61), for (0%, 16%, 50%, 84%, 100%) (log values)\n",
      "Mrat = (7.02e-06, 3.13e-03, 9.80e-02, 5.46e-01, 1.00e+00), for (0%, 16%, 50%, 84%, 100%)\n",
      "redz_form = (1.11e-04, 4.47e-01, 1.23e+00, 2.44e+00, 7.67e+00), for (0%, 16%, 50%, 84%, 100%)\n",
      "sepa = (5.87e+20, 4.87e+21, 6.68e+21, 9.80e+21, 4.49e+23), for (0%, 16%, 50%, 84%, 100%)\n",
      "gal_mstar = (41.77, 42.99, 43.70, 44.61, 45.82), for (0%, 16%, 50%, 84%, 100%) (log values)\n",
      "gal_mtot = (42.72, 44.76, 45.25, 46.02, 47.80), for (0%, 16%, 50%, 84%, 100%) (log values)\n",
      "dm\n",
      "\tnorms  = (1.04e+19, 1.96e+32, 2.94e+35, 1.07e+38, 8.54e+45), for (0%, 16%, 50%, 84%, 100%)\n",
      "\tgammas = (-4.87, -1.89, -0.98, -0.01, 3.81), for (0%, 16%, 50%, 84%, 100%)\n",
      "gas\n",
      "\tnorms  = (-1.50e+34, 9.01e+26, 1.33e+33, 1.30e+37, 1.37e+46), for (0%, 16%, 50%, 84%, 100%)\n",
      "\tgammas = (-5.02, -1.83, -0.52, 1.45, 5.94), for (0%, 16%, 50%, 84%, 100%)\n",
      "star\n",
      "\tnorms  = (9.19e+17, 1.78e+31, 3.74e+34, 2.29e+37, 9.00e+44), for (0%, 16%, 50%, 84%, 100%)\n",
      "\tgammas = (-4.94, -1.94, -0.96, 0.03, 4.39), for (0%, 16%, 50%, 84%, 100%)\n",
      "Running `EvolveLZK.init_mass_profile_arrays()\n",
      "Setting `dens_dm`, `mass_dm`\n"
     ]
    },
    {
     "name": "stderr",
     "output_type": "stream",
     "text": [
      "/Users/lzkelley/Research/working/arepo/illustris/redesign/mike_katz/illustris_LISA_paper/code/evolve_lzk/evolveLZK.py:120: UserWarning: CHECK UNITS OF MDOT\n",
      "  warnings.warn(\"CHECK UNITS OF MDOT\")\n",
      "/Users/lzkelley/Research/working/arepo/illustris/redesign/mike_katz/illustris_LISA_paper/code/evolve_lzk/evolveLZK.py:173: UserWarning: FIX TEMPORARY MASS PROFILES!\n",
      "  warnings.warn(\"FIX TEMPORARY MASS PROFILES!\")\n"
     ]
    },
    {
     "name": "stdout",
     "output_type": "stream",
     "text": [
      "Setting `dens_gas`, `mass_gas`\n",
      "Setting `dens_star`, `mass_star`\n",
      "Running `EvolveLZK.calc_critical_radii()\n"
     ]
    },
    {
     "name": "stderr",
     "output_type": "stream",
     "text": [
      "/Users/lzkelley/Research/working/arepo/illustris/redesign/mike_katz/illustris_LISA_paper/code/evolve_lzk/evolveLZK.py:194: UserWarning: Using fixed velocity dispersion!\n",
      "  warnings.warn(\"Using fixed velocity dispersion!\")\n"
     ]
    }
   ],
   "source": [
    "# PATH_INPUT_DATA = (\"/Users/lzkelley/Research/working/arepo/illustris/redesign/mike_katz/illustris_LISA_paper/code/\"\n",
    "#                    \"simulation_input_data.txt\")\n",
    "PATH_INPUT_DATA = (\"/Users/lzkelley/Research/working/arepo/illustris/redesign/mike_katz/illustris_LISA_paper/data/\"\n",
    "                   \"simulation_input_data.txt\")\n",
    "#                    \"test_input_data.txt\")\n",
    "\n",
    "evolver = evolve_lzk.EvolveLZK(PATH_INPUT_DATA, verbose=True)"
   ]
  },
  {
   "cell_type": "code",
   "execution_count": null,
   "metadata": {},
   "outputs": [],
   "source": [
    "evolver.integrate()"
   ]
  },
  {
   "cell_type": "code",
   "execution_count": null,
   "metadata": {},
   "outputs": [],
   "source": [
    "evolver.calculate_timescale()"
   ]
  },
  {
   "cell_type": "code",
   "execution_count": null,
   "metadata": {},
   "outputs": [],
   "source": [
    "reload(zplot)"
   ]
  },
  {
   "cell_type": "code",
   "execution_count": null,
   "metadata": {
    "scrolled": false
   },
   "outputs": [],
   "source": [
    "NBINS = 14\n",
    "\n",
    "mrat = evolver.mrat\n",
    "mtot = evolver.mtot\n",
    "coal = evolver.inds_coal\n",
    "durs = evolver.durs\n",
    "\n",
    "bins_mrat = zmath.spacing(mrat, num=NBINS)\n",
    "bins_mtot = zmath.spacing(mtot, num=NBINS)\n",
    "\n",
    "hist, _, _, _ = sp.stats.binned_statistic_2d(\n",
    "    mrat, mtot, durs, statistic='median', bins=[bins_mrat, bins_mtot])\n",
    "\n",
    "count, _, _, _ = sp.stats.binned_statistic_2d(\n",
    "    mrat, mtot, durs, statistic='count', bins=[bins_mrat, bins_mtot])\n",
    "\n",
    "count_coal, _, _, _ = sp.stats.binned_statistic_2d(\n",
    "    mrat[coal], mtot[coal], durs[coal], statistic='count', bins=[bins_mrat, bins_mtot])\n",
    "\n",
    "hist /= GYR\n",
    "bins_mtot /= MSOL\n",
    "coal_frac = count_coal / count\n",
    "# print(hist)\n",
    "print(zmath.stats_str(hist[hist > 0.0]))\n",
    "\n",
    "hist[count == 0] = np.inf\n",
    "coal_frac[count == 0] = 0.0\n",
    "\n",
    "smap_count = zplot.colormap([1, count.max()], scale='linear', cmap='gnuplot2')\n",
    "smap_life = zplot.colormap([1e-2, 1e2], scale='log', cmap='gnuplot2_r')\n",
    "smap_coal = zplot.colormap([0.01, 1.0], scale='linear', cmap='gnuplot2')\n",
    "\n",
    "fig, axes = plt.subplots(figsize=[17, 6], ncols=3)\n",
    "plt.subplots_adjust(left=0.05, bottom=0.08, top=0.86, right=0.98, wspace=0.16)\n",
    "cbaxes = []\n",
    "for ax in axes:\n",
    "    bbox = zplot.extent(ax, invert=fig.transFigure)\n",
    "    ax.set(xscale='log', yscale='log')\n",
    "    cbax = fig.add_axes([bbox.x0, bbox.y1 + 0.07, bbox.width, 0.03])\n",
    "    cbaxes.append(cbax)\n",
    "    \n",
    "cbkw = dict(cbar_kwargs=dict(orientation='horizontal'))\n",
    "    \n",
    "labels = ['Mass Ratio', 'Total Mass [Msol]', 'Count']\n",
    "zplot.plot2DHist(axes[0], bins_mrat, bins_mtot, count, labels=labels,\n",
    "                 smap=smap_count, overlay=count, overlay_fmt=\".0f\", cbax=cbaxes[0], **cbkw)\n",
    "\n",
    "labels[2] = 'Median Lifetime [Gyr]'\n",
    "zplot.plot2DHist(axes[1], bins_mrat, bins_mtot, hist, labels=labels,\n",
    "                 smap=smap_life, overlay=hist, overlay_fmt=\".1f\", cbax=cbaxes[1], **cbkw)\n",
    "\n",
    "labels[2] = 'Coalescing Fraction'\n",
    "zplot.plot2DHist(axes[2], bins_mrat, bins_mtot, coal_frac, labels=labels,\n",
    "                 smap=smap_coal, overlay=coal_frac, overlay_fmt=\".2f\", cbax=cbaxes[2], **cbkw)\n",
    "\n",
    "\n",
    "fig.savefig(\"test.pdf\", transparent=True)"
   ]
  }
 ],
 "metadata": {
  "kernelspec": {
   "display_name": "Python 3",
   "language": "python",
   "name": "python3"
  },
  "language_info": {
   "codemirror_mode": {
    "name": "ipython",
    "version": 3
   },
   "file_extension": ".py",
   "mimetype": "text/x-python",
   "name": "python",
   "nbconvert_exporter": "python",
   "pygments_lexer": "ipython3",
   "version": "3.6.5"
  }
 },
 "nbformat": 4,
 "nbformat_minor": 2
}
