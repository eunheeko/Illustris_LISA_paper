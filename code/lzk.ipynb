{
 "cells": [
  {
   "cell_type": "code",
   "execution_count": 3,
   "metadata": {},
   "outputs": [],
   "source": [
    "import numpy as np\n",
    "import matplotlib as mpl\n",
    "import matplotlib.pyplot as plt\n",
    "\n",
    "from zcode.constants import *\n",
    "import zcode.math as zmath\n",
    "import zcode.plot as zplot\n",
    "import zcode.inout as zio"
   ]
  },
  {
   "cell_type": "code",
   "execution_count": 4,
   "metadata": {},
   "outputs": [],
   "source": [
    "np.seterr(divide='ignore', invalid='ignore');\n",
    "\n",
    "mpl.rc('font', **{'family': 'serif', 'sans-serif': ['Times']})\n",
    "mpl.rc('lines', solid_capstyle='round')\n",
    "mpl.rc('mathtext', fontset='cm')\n",
    "plt.rcParams.update({'grid.alpha': 0.5})"
   ]
  },
  {
   "cell_type": "code",
   "execution_count": 16,
   "metadata": {},
   "outputs": [
    {
     "name": "stdout",
     "output_type": "stream",
     "text": [
      "Shape = (18878,)\n"
     ]
    },
    {
     "data": {
      "text/plain": [
       "('merger',\n",
       " 'snap_prev_in',\n",
       " 'snapshot_prev_out',\n",
       " 'snapshot_fin_out',\n",
       " 'subhalo_prev_in',\n",
       " 'subhalo_prev_out',\n",
       " 'subhalo_fin_out',\n",
       " 'id_new_prev_in',\n",
       " 'id_new_prev_out',\n",
       " 'id_new_fin_out',\n",
       " 'mass_new_prev_in',\n",
       " 'mass_new_prev_out',\n",
       " 'mass_new_fin_out',\n",
       " 'redshift',\n",
       " 'separation',\n",
       " 'coordinates_x',\n",
       " 'coordinates_y',\n",
       " 'coordinates_z',\n",
       " 'gamma',\n",
       " 'vel_disp_prev_in',\n",
       " 'vel_disp_prev_out',\n",
       " 'vel_disp_fin_out',\n",
       " 'stellar_mass_prev_in',\n",
       " 'stellar_mass_prev_out',\n",
       " 'stellar_mass_fin_out',\n",
       " 'total_mass_prev_in',\n",
       " 'total_mass_prev_out',\n",
       " 'total_mass_fin_out')"
      ]
     },
     "execution_count": 16,
     "metadata": {},
     "output_type": "execute_result"
    }
   ],
   "source": [
    "PATH_INPUT_DATA = (\"/Users/lzkelley/Research/working/arepo/illustris/redesign/mike_katz/\"\n",
    "                   \"data_ready_june_snap_lim_1.txt\")\n",
    "\n",
    "input_data = np.genfromtxt(PATH_INPUT_DATA, names=True, dtype=None)\n",
    "print(\"Shape = {}\".format(input_data.shape))\n",
    "input_data.dtype.names"
   ]
  },
  {
   "cell_type": "code",
   "execution_count": 23,
   "metadata": {},
   "outputs": [
    {
     "name": "stdout",
     "output_type": "stream",
     "text": [
      "True\n",
      "Mtot = (5.46, 6.57, 7.45, 8.75, 10.31), for (0%, 16%, 50%, 84%, 100%) (log values)\n",
      "Mrat = (7.02e-06, 2.83e-03, 9.20e-02, 5.36e-01, 1.00e+00), for (0%, 16%, 50%, 84%, 100%)\n",
      "redz = (1.11e-04, 4.38e-01, 1.21e+00, 2.42e+00, 7.67e+00), for (0%, 16%, 50%, 84%, 100%)\n",
      "sepa = (1.90e-01, 1.58e+00, 2.17e+00, 3.19e+00, 1.45e+02), for (0%, 16%, 50%, 84%, 100%)\n"
     ]
    }
   ],
   "source": [
    "masses = np.array([input_data['mass_new_prev_in'], input_data['mass_new_prev_out']]).T\n",
    "snaps = np.array([input_data[kk] for kk in ['snap_prev_in', 'snapshot_prev_out', 'snapshot_fin_out']]).T\n",
    "redz = input_data['redshift']\n",
    "sepa = input_data['separation']\n",
    "\n",
    "m2, m1 = masses.T\n",
    "mt = m1 + m2\n",
    "mr = m2/m1\n",
    "\n",
    "print(all(snaps[:, 0] == snaps[:, 1]))\n",
    "\n",
    "print(\"Mtot = \" + zmath.stats_str(mt, log=True))\n",
    "print(\"Mrat = \" + zmath.stats_str(mr, log=False))\n",
    "print(\"redz = \" + zmath.stats_str(redz, log=False))\n",
    "print(\"sepa = \" + zmath.stats_str(sepa, log=False))\n"
   ]
  }
 ],
 "metadata": {
  "kernelspec": {
   "display_name": "Python 3",
   "language": "python",
   "name": "python3"
  },
  "language_info": {
   "codemirror_mode": {
    "name": "ipython",
    "version": 3
   },
   "file_extension": ".py",
   "mimetype": "text/x-python",
   "name": "python",
   "nbconvert_exporter": "python",
   "pygments_lexer": "ipython3",
   "version": "3.6.5"
  }
 },
 "nbformat": 4,
 "nbformat_minor": 2
}
