{
 "cells": [
  {
   "cell_type": "code",
   "execution_count": 3,
   "metadata": {},
   "outputs": [],
   "source": [
    "import matplotlib.pyplot as plt\n",
    "import numpy as np\n",
    "from collections import OrderedDict\n",
    "%matplotlib inline\n",
    "\n",
    "#local imports\n",
    "from detection_rate_main import detection_rate_main\n",
    "from utils.mbhbinaries import MagicMergers, EvolveFDFA\n",
    "\n",
    "from pyphenomd.pyphenomd import *\n",
    "import scipy.constants as ct\n",
    "Msun=1.989e30"
   ]
  },
  {
   "cell_type": "markdown",
   "metadata": {},
   "source": [
    "## Declare Resample Parameters"
   ]
  },
  {
   "cell_type": "code",
   "execution_count": 20,
   "metadata": {},
   "outputs": [],
   "source": [
    "num_catalogs = 10000\n",
    "t_obs = 10.0 #years\n",
    "duration = 100.0 #years\n",
    "\n",
    "#input file\n",
    "fp = '../data_ready_june_snap_lim_1.txt'\n",
    "\n",
    "##################\n",
    "###### KDE #######\n",
    "##################\n",
    "\n",
    "# what key for the input data for m1, m2. It is not\n",
    "# needed for z because we calculate z_coalescence. \n",
    "kde_key_guide = OrderedDict()\n",
    "kde_key_guide['m1'] = 'mass_new_prev_in'\n",
    "kde_key_guide['m2'] = 'mass_new_prev_out'\n",
    "#kde_key_guide['z'] = 'redshift'\n",
    "\n",
    "########################\n",
    "###### Evolution #######\n",
    "########################\n",
    "\n",
    "# evolve with Dosopoulou and Antonini 2017\n",
    "evolve_class = EvolveFDFA\n",
    "# keys are the parameter names for the evolution scenario. \n",
    "# values are the corresponding names of the input_data columns\n",
    "evolve_key_guide = {'m1':'mass_new_prev_in', 'm2':'mass_new_prev_out', \n",
    "                    'z':'redshift', 'separation':'separation', 'gamma':'gamma', \n",
    "                    'vel_disp_1':'vel_disp_prev_in',  'vel_disp_2':'vel_disp_prev_out'}\n",
    "\n",
    "\n",
    "# magic mergers\n",
    "#evolve_key_guide = {'z':'redshift'}\n",
    "#evolve_class = MagicMergers\n",
    "\n",
    "###########################\n",
    "###### merger rate  #######\n",
    "###########################\n",
    "\n",
    "# kwargs related to merger rate calculation\n",
    "merger_rate_kwargs = {'Vc':106.5**3, 'dz':0.001, 'zmax':10.0}\n",
    "\n",
    "############################################\n",
    "###### Parrallel Calculation of SNRs #######\n",
    "############################################\n",
    "parallel_kwargs = {'num_processors':None, 'num_splits':1000, 'verbose':10}"
   ]
  },
  {
   "cell_type": "markdown",
   "metadata": {},
   "source": [
    "## Run the Resampler"
   ]
  },
  {
   "cell_type": "code",
   "execution_count": 21,
   "metadata": {},
   "outputs": [
    {
     "name": "stdout",
     "output_type": "stream",
     "text": [
      "merger rate: 0.6194962953593661\n",
      "numprocs 4\n",
      "start pool with 4 processors: 619 total processes.\n",
      "\n",
      "Start process: 9\n",
      "Start process: 19\n",
      "Start process: 29\n",
      "Start process: 39\n",
      "Start process: 49\n",
      "Start process: 59\n",
      "Start process: 69\n",
      "Start process: 79\n",
      "Start process: 89\n",
      "Start process: 99\n",
      "Start process: 109\n",
      "Start process: 119\n",
      "Start process: 129\n",
      "Start process: 139\n",
      "Start process: 149\n",
      "Start process: 159\n",
      "Start process: 169\n",
      "Start process: 179\n",
      "Start process: 189\n",
      "Start process: 199\n",
      "Start process: 209\n",
      "Start process: 219\n",
      "Start process: 229\n",
      "Start process: 239\n",
      "Start process: 249\n",
      "Start process: 259\n",
      "Start process: 269\n",
      "Start process: 279\n",
      "Start process: 289\n",
      "Start process: 299\n",
      "Start process: 309\n",
      "Start process: 319\n",
      "Start process: 329\n",
      "Start process: 339\n",
      "Start process: 349\n",
      "Start process: 359\n",
      "Start process: 369\n",
      "Start process: 379\n",
      "Start process: 389\n",
      "Start process: 399\n",
      "Start process: 409\n",
      "Start process: 419\n",
      "Start process: 429\n",
      "Start process: 439\n",
      "Start process: 449\n",
      "Start process: 459\n",
      "Start process: 469\n",
      "Start process: 479\n",
      "Start process: 489\n",
      "Start process: 499\n",
      "Start process: 509\n",
      "Start process: 519\n",
      "Start process: 529\n",
      "Start process: 539\n",
      "Start process: 549\n",
      "Start process: 559\n",
      "Start process: 569\n",
      "Start process: 579\n",
      "Start process: 589\n",
      "Start process: 599\n",
      "Start process: 609\n",
      "SNR calculation time: 183.84337902069092\n",
      "Total Duration: 216.4046220779419\n"
     ]
    },
    {
     "name": "stderr",
     "output_type": "stream",
     "text": [
      "/Users/michaelkatz/Documents/Research/Illustris/MCproject/paper/code/detection_rate_main.py:79: RuntimeWarning: invalid value encountered in greater\n",
      "  inds_keep = np.where(snr>8.0)[0]\n"
     ]
    }
   ],
   "source": [
    "# only_detectable and snr_threshold are optional kwargs.\n",
    "# only_detectable defaults to False which makes snr_threshold meaningless\n",
    "# only_detectable True means the binaries returned have an SNR over the threshold\n",
    "cats = detection_rate_main(num_catalogs, t_obs, duration, fp,\n",
    "                            evolve_key_guide, kde_key_guide, evolve_class,\n",
    "                            merger_rate_kwargs, parallel_kwargs, \n",
    "                            only_detectable=True, snr_threshold=8.0)"
   ]
  },
  {
   "cell_type": "code",
   "execution_count": 22,
   "metadata": {},
   "outputs": [
    {
     "data": {
      "text/plain": [
       "dtype((numpy.record, [('cat', '<i8'), ('t_event', '<f8'), ('m1', '<f8'), ('m2', '<f8'), ('z_coal', '<f8'), ('snr', '<f8')]))"
      ]
     },
     "execution_count": 22,
     "metadata": {},
     "output_type": "execute_result"
    }
   ],
   "source": [
    "cats.dtype"
   ]
  },
  {
   "cell_type": "code",
   "execution_count": 26,
   "metadata": {},
   "outputs": [
    {
     "data": {
      "text/plain": [
       "Text(0.5,0,'$\\\\log_{10}{\\\\rho}$')"
      ]
     },
     "execution_count": 26,
     "metadata": {},
     "output_type": "execute_result"
    },
    {
     "data": {
      "image/png": "[encoded data removed]",
      "text/plain": [
       "<Figure size 432x288 with 1 Axes>"
      ]
     },
     "metadata": {},
     "output_type": "display_data"
    }
   ],
   "source": [
    "plt.hist(np.log10(cats['snr']), bins=30, histtype='step', lw=3, log=True, density=True)\n",
    "plt.xlim(np.log10(8),)\n",
    "plt.xlabel(r'$\\log_{10}{\\rho}$')"
   ]
  },
  {
   "cell_type": "code",
   "execution_count": 5,
   "metadata": {},
   "outputs": [
    {
     "name": "stdout",
     "output_type": "stream",
     "text": [
      "[2.68377761e-06 2.68661435e-06 2.68945408e-06 ... 2.02596930e-04\n",
      " 2.02811073e-04 2.03025444e-04] [2.68334481e-06 7.13139255e-06 2.90075465e-05 1.18729624e-04]\n",
      "[9.40103957e-06 9.40809589e-06 9.41515751e-06 ... 2.02721009e-04\n",
      " 2.02873169e-04 2.03025444e-04] [9.39954595e-06 2.57253610e-05 1.12105829e-04 5.04826268e-04]\n"
     ]
    },
    {
     "data": {
      "text/plain": [
       "Text(0.5,0.05,'Frequency (Hz)')"
      ]
     },
     "execution_count": 5,
     "metadata": {},
     "output_type": "execute_result"
    },
    {
     "data": {
      "image/png": "[encoded data removed]",
      "text/plain": [
       "<Figure size 576x432 with 2 Axes>"
      ]
     },
     "metadata": {},
     "output_type": "display_data"
    }
   ],
   "source": [
    "fig1, (ax1, ax2) = plt.subplots(nrows=1, ncols=2, sharex=True, sharey=True)\n",
    "fig1.set_size_inches(8,6)\n",
    "plt.subplots_adjust(wspace=0.0, left=0.15, bottom=0.15)\n",
    "\n",
    "M = 1e8\n",
    "z = 1.0\n",
    "start_time = 1.0\n",
    "end_time = 0.0\n",
    "ax1.set_title(r'$q=1$', fontsize=20)\n",
    "ax2.set_title(r'$q=10^{2}$', fontsize=20)\n",
    "for q, ax in [[1, ax1], [1/100,ax2]]:\n",
    "    ax.set_ylim(6e-23, 5e-14)\n",
    "    ax.set_xlim(1e-6, 1e-3)\n",
    "    for tick in ax.xaxis.get_major_ticks():\n",
    "        tick.label.set_fontsize(18)\n",
    "    for tick in ax.yaxis.get_major_ticks():\n",
    "        tick.label.set_fontsize(18)\n",
    "    \n",
    "    for s, ls in [[-0.8, 'dotted'], [0.0, 'solid'], [0.8,'dashed']]:\n",
    "        m1 = M/(1+q)\n",
    "        m2 = M*q/(1+q)\n",
    "        wave = PhenomDWaveforms(m1, m2, s, s, z, start_time, end_time, num_points=4096)\n",
    "        wave.create_waveforms()\n",
    "        \n",
    "        f = wave.freqs\n",
    "        hc = wave.amplitude*np.sqrt(96/200) #averaging factor see Cornish and Robson 2018\n",
    "        \n",
    "        ins = np.where(f<wave.fmrg)[0]\n",
    "        mrg = np.where((f>=wave.fmrg)&(f<=wave.fpeak))[0]\n",
    "        rd = np.where(f>wave.fpeak)[0]\n",
    "        \n",
    "        ax.loglog(f[ins], hc[ins], color='blue', ls = ls, lw = 2)\n",
    "        ax.loglog(f[mrg], hc[mrg], color='green', ls = ls, lw = 2)\n",
    "        ax.loglog(f[rd], hc[rd], color='brown', ls = ls, lw = 2)\n",
    "        if s == 0.0:\n",
    "            N = m1*m2/(m1+m2)**2.\n",
    "            start_times = np.array([1.0,1.0/12.0, 1.0/365.25,1.0/(365.25*24.0)])*ct.Julian_year/(1+z)\n",
    "\n",
    "            tau = N*(start_times*ct.c)/(5.*(m1+m2)*Msun*ct.G/(ct.c**2.))\n",
    "            flow = 1./(8.*ct.pi*(m1+m2)*Msun*ct.G/(ct.c**2.)*tau**(3./8.))*(1.+((11./32)*N+743./2688.)*tau**(-1./4.))*ct.c/(1+z)\n",
    "\n",
    "            print(f, flow)\n",
    "            try:\n",
    "                f_1y_ind = np.where(f >= flow[0])[0][0]\n",
    "            except IndexError:\n",
    "                f_1y_ind = 0\n",
    "            ax.annotate(\"Year\",xy=(f[f_1y_ind], hc[f_1y_ind]), xycoords='data',xytext=(0, 20), ha='center', textcoords='offset points',arrowprops=dict(arrowstyle=\"-\",linewidth = 1.75), fontsize=14)  \n",
    "            \n",
    "            f_1m_ind = np.where(f >= flow[1])[0][0]\n",
    "            ax.annotate(\"Month\",xy=(f[f_1m_ind], hc[f_1m_ind]), xycoords='data',xytext=(0.0, 55), ha='center', textcoords='offset points',arrowprops=dict(arrowstyle=\"-\",linewidth = 1.75), fontsize=14)\n",
    "            \n",
    "            if q != 1/100:\n",
    "                f_1d_ind = np.where(f >= flow[2])[0][0]\n",
    "                ax.annotate(\"Day\",xy=(f[f_1d_ind], hc[f_1d_ind]), xycoords='data',xytext=(0.0, 20), ha='center', textcoords='offset points',arrowprops=dict(arrowstyle=\"-\",linewidth = 1.75), fontsize=14)\n",
    "\n",
    "ax1.plot(1,1, color='blue', ls='solid', label='Inspiral')\n",
    "ax1.plot(1,1, color='green', ls='solid', label='Merger')\n",
    "ax1.plot(1,1, color='brown', ls='solid', label='Ringdown')\n",
    "ax1.plot(1,1, color='black', ls='solid', label='No Spin')\n",
    "ax1.plot(1,1, color='black', ls='dotted', label='Spin Down')\n",
    "ax1.plot(1,1, color='black', ls='dashed', label='Spin Up')\n",
    "ax1.legend(loc='lower left', prop={'size':13})\n",
    "ax1.set_ylabel(r'$h_c$', fontsize = 22)\n",
    "ax1.set_xticks([1e-5, 1e-4])\n",
    "\n",
    "fig1.text(0.5, 0.05, 'Frequency (Hz)', ha = 'center', fontsize=22)\n",
    "#fig1.savefig('figures/Phase_tracks1.pdf', dpi=250)"
   ]
  },
  {
   "cell_type": "code",
   "execution_count": null,
   "metadata": {},
   "outputs": [],
   "source": []
  }
 ],
 "metadata": {
  "kernelspec": {
   "display_name": "Python [conda env:anaconda3]",
   "language": "python",
   "name": "conda-env-anaconda3-py"
  },
  "language_info": {
   "codemirror_mode": {
    "name": "ipython",
    "version": 3
   },
   "file_extension": ".py",
   "mimetype": "text/x-python",
   "name": "python",
   "nbconvert_exporter": "python",
   "pygments_lexer": "ipython3",
   "version": "3.5.5"
  }
 },
 "nbformat": 4,
 "nbformat_minor": 2
}
