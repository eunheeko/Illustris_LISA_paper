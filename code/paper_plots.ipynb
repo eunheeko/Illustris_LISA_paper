{
 "cells": [
  {
   "cell_type": "code",
   "execution_count": 1,
   "metadata": {},
   "outputs": [],
   "source": [
    "import matplotlib.pyplot as plt\n",
    "import numpy as np\n",
    "from collections import OrderedDict\n",
    "%matplotlib inline\n",
    "\n",
    "#local imports\n",
    "from detection_rate_main import detection_rate_main\n",
    "from utils.mbhbinaries import MagicMergers, EvolveFDFA"
   ]
  },
  {
   "cell_type": "markdown",
   "metadata": {},
   "source": [
    "## Declare Resample Parameters"
   ]
  },
  {
   "cell_type": "code",
   "execution_count": 20,
   "metadata": {},
   "outputs": [],
   "source": [
    "num_catalogs = 10000\n",
    "t_obs = 10.0 #years\n",
    "duration = 100.0 #years\n",
    "\n",
    "#input file\n",
    "fp = '../data_ready_june_snap_lim_1.txt'\n",
    "\n",
    "##################\n",
    "###### KDE #######\n",
    "##################\n",
    "\n",
    "# what key for the input data for m1, m2. It is not\n",
    "# needed for z because we calculate z_coalescence. \n",
    "kde_key_guide = OrderedDict()\n",
    "kde_key_guide['m1'] = 'mass_new_prev_in'\n",
    "kde_key_guide['m2'] = 'mass_new_prev_out'\n",
    "#kde_key_guide['z'] = 'redshift'\n",
    "\n",
    "########################\n",
    "###### Evolution #######\n",
    "########################\n",
    "\n",
    "# evolve with Dosopoulou and Antonini 2017\n",
    "evolve_class = EvolveFDFA\n",
    "# keys are the parameter names for the evolution scenario. \n",
    "# values are the corresponding names of the input_data columns\n",
    "evolve_key_guide = {'m1':'mass_new_prev_in', 'm2':'mass_new_prev_out', \n",
    "                    'z':'redshift', 'separation':'separation', 'gamma':'gamma', \n",
    "                    'vel_disp_1':'vel_disp_prev_in',  'vel_disp_2':'vel_disp_prev_out'}\n",
    "\n",
    "\n",
    "# magic mergers\n",
    "#evolve_key_guide = {'z':'redshift'}\n",
    "#evolve_class = MagicMergers\n",
    "\n",
    "###########################\n",
    "###### merger rate  #######\n",
    "###########################\n",
    "\n",
    "# kwargs related to merger rate calculation\n",
    "merger_rate_kwargs = {'Vc':106.5**3, 'dz':0.001, 'zmax':10.0}\n",
    "\n",
    "############################################\n",
    "###### Parrallel Calculation of SNRs #######\n",
    "############################################\n",
    "parallel_kwargs = {'num_processors':None, 'num_splits':1000, 'verbose':10}"
   ]
  },
  {
   "cell_type": "markdown",
   "metadata": {},
   "source": [
    "## Run the Resampler"
   ]
  },
  {
   "cell_type": "code",
   "execution_count": 21,
   "metadata": {},
   "outputs": [
    {
     "name": "stdout",
     "output_type": "stream",
     "text": [
      "merger rate: 0.6194962953593661\n",
      "numprocs 4\n",
      "start pool with 4 processors: 619 total processes.\n",
      "\n",
      "Start process: 9\n",
      "Start process: 19\n",
      "Start process: 29\n",
      "Start process: 39\n",
      "Start process: 49\n",
      "Start process: 59\n",
      "Start process: 69\n",
      "Start process: 79\n",
      "Start process: 89\n",
      "Start process: 99\n",
      "Start process: 109\n",
      "Start process: 119\n",
      "Start process: 129\n",
      "Start process: 139\n",
      "Start process: 149\n",
      "Start process: 159\n",
      "Start process: 169\n",
      "Start process: 179\n",
      "Start process: 189\n",
      "Start process: 199\n",
      "Start process: 209\n",
      "Start process: 219\n",
      "Start process: 229\n",
      "Start process: 239\n",
      "Start process: 249\n",
      "Start process: 259\n",
      "Start process: 269\n",
      "Start process: 279\n",
      "Start process: 289\n",
      "Start process: 299\n",
      "Start process: 309\n",
      "Start process: 319\n",
      "Start process: 329\n",
      "Start process: 339\n",
      "Start process: 349\n",
      "Start process: 359\n",
      "Start process: 369\n",
      "Start process: 379\n",
      "Start process: 389\n",
      "Start process: 399\n",
      "Start process: 409\n",
      "Start process: 419\n",
      "Start process: 429\n",
      "Start process: 439\n",
      "Start process: 449\n",
      "Start process: 459\n",
      "Start process: 469\n",
      "Start process: 479\n",
      "Start process: 489\n",
      "Start process: 499\n",
      "Start process: 509\n",
      "Start process: 519\n",
      "Start process: 529\n",
      "Start process: 539\n",
      "Start process: 549\n",
      "Start process: 559\n",
      "Start process: 569\n",
      "Start process: 579\n",
      "Start process: 589\n",
      "Start process: 599\n",
      "Start process: 609\n",
      "SNR calculation time: 183.84337902069092\n",
      "Total Duration: 216.4046220779419\n"
     ]
    },
    {
     "name": "stderr",
     "output_type": "stream",
     "text": [
      "/Users/michaelkatz/Documents/Research/Illustris/MCproject/paper/code/detection_rate_main.py:79: RuntimeWarning: invalid value encountered in greater\n",
      "  inds_keep = np.where(snr>8.0)[0]\n"
     ]
    }
   ],
   "source": [
    "# only_detectable and snr_threshold are optional kwargs.\n",
    "# only_detectable defaults to False which makes snr_threshold meaningless\n",
    "# only_detectable True means the binaries returned have an SNR over the threshold\n",
    "cats = detection_rate_main(num_catalogs, t_obs, duration, fp,\n",
    "                            evolve_key_guide, kde_key_guide, evolve_class,\n",
    "                            merger_rate_kwargs, parallel_kwargs, \n",
    "                            only_detectable=True, snr_threshold=8.0)"
   ]
  },
  {
   "cell_type": "code",
   "execution_count": 22,
   "metadata": {},
   "outputs": [
    {
     "data": {
      "text/plain": [
       "dtype((numpy.record, [('cat', '<i8'), ('t_event', '<f8'), ('m1', '<f8'), ('m2', '<f8'), ('z_coal', '<f8'), ('snr', '<f8')]))"
      ]
     },
     "execution_count": 22,
     "metadata": {},
     "output_type": "execute_result"
    }
   ],
   "source": [
    "cats.dtype"
   ]
  },
  {
   "cell_type": "code",
   "execution_count": 26,
   "metadata": {},
   "outputs": [
    {
     "data": {
      "text/plain": [
       "Text(0.5,0,'$\\\\log_{10}{\\\\rho}$')"
      ]
     },
     "execution_count": 26,
     "metadata": {},
     "output_type": "execute_result"
    },
    {
     "data": {
      "image/png": "[encoded data removed]",
      "text/plain": [
       "<Figure size 432x288 with 1 Axes>"
      ]
     },
     "metadata": {},
     "output_type": "display_data"
    }
   ],
   "source": [
    "plt.hist(np.log10(cats['snr']), bins=30, histtype='step', lw=3, log=True, density=True)\n",
    "plt.xlim(np.log10(8),)\n",
    "plt.xlabel(r'$\\log_{10}{\\rho}$')"
   ]
  },
  {
   "cell_type": "code",
   "execution_count": null,
   "metadata": {},
   "outputs": [],
   "source": []
  }
 ],
 "metadata": {
  "kernelspec": {
   "display_name": "Python [conda env:anaconda3]",
   "language": "python",
   "name": "conda-env-anaconda3-py"
  },
  "language_info": {
   "codemirror_mode": {
    "name": "ipython",
    "version": 3
   },
   "file_extension": ".py",
   "mimetype": "text/x-python",
   "name": "python",
   "nbconvert_exporter": "python",
   "pygments_lexer": "ipython3",
   "version": "3.5.5"
  }
 },
 "nbformat": 4,
 "nbformat_minor": 2
}
